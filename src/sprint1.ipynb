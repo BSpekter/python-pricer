{
 "cells": [
  {
   "cell_type": "code",
   "execution_count": 1,
   "id": "09218aa2",
   "metadata": {},
   "outputs": [],
   "source": [
    "import pandas as pd\n",
    "import numpy as np\n",
    "%matplotlib inline\n",
    "import matplotlib.pyplot as plt\n",
    "import matplotlib\n",
    "import sys\n",
    "sys.path.append('../')\n",
    "import datetime\n"
   ]
  },
  {
   "cell_type": "code",
   "execution_count": 2,
   "id": "93a14e28",
   "metadata": {},
   "outputs": [],
   "source": [
    "class Linear_interpol(object):\n",
    "    def __init__(self, data):\n",
    "        self.x, self.y = data\n",
    "        \n",
    "    \n",
    "    def predict(self, z):\n",
    "        x = np.array(self.x)\n",
    "        y = np.array(self.y)\n",
    "        #Проверяем, не подали ли нам уже известную точку\n",
    "        if (z==x).any():\n",
    "            return y[np.where(x==z)][0]\n",
    "        #Находим ближайшую слева и ближайшую справа от искомой точки и их значения\n",
    "        try:\n",
    "            min_idx = np.where(x<z)[0][-1]\n",
    "            max_idx = np.where(x>z)[0][0]\n",
    "        except IndexError:\n",
    "            print(\"Ошибка, точка {} лежит вне интервала [{},{}]\".format(z, x.min(), x.max()))\n",
    "            return None\n",
    "        x_min = x[min_idx]\n",
    "        y_min = y[min_idx]\n",
    "        x_max = x[max_idx]\n",
    "        y_max = y[max_idx]\n",
    "        return y_max + (y_min-y_max) / (x_min-x_max) * (z - x_max)\n",
    "    \n",
    "    def plot_predict(self, z):\n",
    "        k = self.predict(z)\n",
    "        if k != None:\n",
    "            plt.figure(figsize=(10, 10))\n",
    "            plt.plot(self.x, self.y, label = 'data')\n",
    "            plt.plot(z, k,'*', label = 'predicted')\n",
    "            plt.legend()\n",
    "            plt.grid()\n",
    "            plt.show()\n",
    "\n",
    "def discount_factors_array(dates):\n",
    "    data = pd.DataFrame(index = dates)\n",
    "    data['dates'] = np.nan\n",
    "    last_erodollar = 100 #Костылецкий\n",
    "    USD_rates = pd.read_csv('../data/USD rates.csv')\n",
    "    now = datetime.date.today()\n",
    "    USD_rates.index = USD_rates.EndDate\n",
    "    USD_rates = USD_rates['Unnamed: 1']\n",
    "    USD_rates[USD_rates.index[0]] = last_erodollar\n",
    "    tmp = np.exp(np.log(USD_rates).diff())\n",
    "    rates = tmp[tmp.index[2]:tmp.index[-1]]\n",
    "    rates = 1 / rates\n",
    "    rates = np.exp(np.log(rates).expanding().sum())\n",
    "    rates.index = pd.to_datetime(rates.index)\n",
    "    data.index = pd.to_datetime(data.index)\n",
    "    for_plotting = pd.concat([rates, data],axis=0).drop(['dates'],axis=1).sort_index()\n",
    "    for_plotting = pd.DataFrame(for_plotting)\n",
    "\n",
    "    # for_plotting['idx'] = for_plotting.index\n",
    "    for_plotting.index = pd.to_datetime(for_plotting.index)\n",
    "    \n",
    "    for_plotting['interpolation'] = for_plotting.interpolate(method='time')\n",
    "    \n",
    "#     plt.plot(1 / for_plotting['interpolation'][dates]) # Если хотите графичек дисконт значений\n",
    "    return 1 / for_plotting['interpolation'][dates]\n",
    "#     print(for_plotting)\n",
    "    # for_plotting.index = for_plotting['idx'].apply(lambda x: datetime.datetime.timestamp(x)) #// 10 ** 9\n",
    "    # for_plotting.index = for_plotting['idx']\n",
    "\n",
    "#     plt.plot(for_plotting['interpolation'])\n",
    "#     plt.plot(rates)\n",
    "#     plt.legend(['интерполированные', 'настоящие'])\n",
    "#     plt.show()\n",
    "#     plt.show()"
   ]
  },
  {
   "cell_type": "code",
   "execution_count": 3,
   "id": "9c2f61dd",
   "metadata": {},
   "outputs": [],
   "source": [
    "# dates_to_calc = pd.DataFrame(\n",
    "\n",
    "#     {\n",
    "#         \"dates\": [np.nan, np.nan, np.nan, np.nan]\n",
    "#     },\n",
    "#     index=[datetime.date(2024,6,1), datetime.date(2024,7,1), datetime.date(2024,8,1), datetime.date(2024,10,1)],\n",
    "# )\n",
    "\n",
    "dates_to_calc = [datetime.date(2024,6,1), datetime.date(2024,7,1), datetime.date(2024,8,1), datetime.date(2024,10,1), datetime.date(2025,10,1)]\n",
    "# a = pd.DataFrame(index = data)\n",
    "# a['dates'] = np.nan\n",
    "# a"
   ]
  },
  {
   "cell_type": "code",
   "execution_count": 4,
   "id": "4cde925d",
   "metadata": {},
   "outputs": [
    {
     "data": {
      "text/plain": [
       "2024-06-01    0.986971\n",
       "2024-07-01    0.986678\n",
       "2024-08-01    0.986405\n",
       "2024-10-01    0.985873\n",
       "2025-10-01    0.985222\n",
       "Name: interpolation, dtype: float64"
      ]
     },
     "execution_count": 4,
     "metadata": {},
     "output_type": "execute_result"
    }
   ],
   "source": [
    "discount_factors_array(dates_to_calc)"
   ]
  },
  {
   "cell_type": "code",
   "execution_count": 5,
   "id": "20997ef3",
   "metadata": {},
   "outputs": [
    {
     "data": {
      "text/plain": [
       "False"
      ]
     },
     "execution_count": 5,
     "metadata": {},
     "output_type": "execute_result"
    }
   ],
   "source": [
    "discount_factors_array(dates_to_calc)['2024-06-01'] == 0.986971"
   ]
  },
  {
   "cell_type": "code",
   "execution_count": 6,
   "id": "ee5672f8",
   "metadata": {},
   "outputs": [
    {
     "data": {
      "text/plain": [
       "array([0.98697129, 0.98667792, 0.98640478, 0.98587309, 0.98522192])"
      ]
     },
     "execution_count": 6,
     "metadata": {},
     "output_type": "execute_result"
    }
   ],
   "source": [
    "np.array(discount_factors_array(dates_to_calc))"
   ]
  },
  {
   "cell_type": "code",
   "execution_count": null,
   "id": "eae76bf7",
   "metadata": {},
   "outputs": [],
   "source": []
  }
 ],
 "metadata": {
  "kernelspec": {
   "display_name": "Python 3",
   "language": "python",
   "name": "python3"
  },
  "language_info": {
   "codemirror_mode": {
    "name": "ipython",
    "version": 3
   },
   "file_extension": ".py",
   "mimetype": "text/x-python",
   "name": "python",
   "nbconvert_exporter": "python",
   "pygments_lexer": "ipython3",
   "version": "3.8.8"
  }
 },
 "nbformat": 4,
 "nbformat_minor": 5
}
